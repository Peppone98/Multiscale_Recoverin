{
 "cells": [
  {
   "cell_type": "code",
   "execution_count": 1,
   "metadata": {},
   "outputs": [],
   "source": [
    "import numpy as np\n",
    "import matplotlib.pyplot as plt\n",
    "import plumed\n",
    "import pandas as pd\n",
    "from mpl_toolkits.mplot3d import Axes3D\n",
    "from matplotlib import cm\n",
    "import math\n",
    "import MDAnalysis as mda\n",
    "from MDAnalysis.analysis import rms\n",
    "from MDAnalysis.analysis.rms import RMSD\n",
    "from MDAnalysis.analysis.rms import RMSF"
   ]
  },
  {
   "cell_type": "code",
   "execution_count": 2,
   "metadata": {},
   "outputs": [
    {
     "name": "stderr",
     "output_type": "stream",
     "text": [
      "/Users/giuseppegambini/.local/lib/python3.8/site-packages/MDAnalysis/topology/PDBParser.py:328: UserWarning: Element information is missing, elements attribute will not be populated. If needed these can be guessed using MDAnalysis.topology.guessers.\n",
      "  warnings.warn(\"Element information is missing, elements attribute \"\n"
     ]
    }
   ],
   "source": [
    "PDB_CG = 'start_prot_CAL.pdb'\n",
    "XTC_CG = 'trj_fit_BB_CAL.xtc'\n",
    "u_CG = mda.Universe(str(PDB_CG), str(XTC_CG)) #we create the universe\n",
    "\n",
    "PDB_AA = 'AA_sim/ref_nowat.pdb'\n",
    "XTC_AA = 'AA_sim/trj_fit_BB.xtc'\n",
    "u_AA = mda.Universe(str(PDB_AA), str(XTC_AA))"
   ]
  },
  {
   "cell_type": "code",
   "execution_count": null,
   "metadata": {},
   "outputs": [],
   "source": [
    "rmsf_cog = []\n",
    "\n",
    "# Compute the CM of the reference configuration (frame zero)\n",
    "cog_coordinates_ref = []\n",
    "for i in range(len(u_AA.select_atoms(\"protein\").residues)):\n",
    "    residue_group = u_AA.select_atoms(f\"resid {i+2} and name CA N C O HA HA1 HA2 HB HB1 HB2 HN\")\n",
    "    cog_coordinates_ref.append(residue_group.center_of_geometry())"
   ]
  },
  {
   "cell_type": "code",
   "execution_count": null,
   "metadata": {},
   "outputs": [],
   "source": [
    "# Puoi fare delle prove con pochi residui per volta...\n",
    "\n",
    "N_res = len(u_aa.select_atoms(\"protein\").residues)\n",
    "\n",
    "for i in range(N_res):\n",
    "    residue_group = u_AA.select_atoms(f\"resid {i+2} and name CA N C O HA HA1 HA2 HB HB1 HB2 HN\")\n",
    "\n",
    "    # define the array of positions \n",
    "    cog_coordinates = np.zeros((len(u_AA.trajectory), 3))\n",
    "\n",
    "    # Loop for the RMSF of a single residue \n",
    "    for ts in u_AA.trajectory:\n",
    "        # Compute center of mass of the selected residue \n",
    "        cog_coordinates[ts.frame] = residue_group.center_of_geometry()\n",
    "\n",
    "    # Compute the RMSF for the single residue    \n",
    "    rmsf_cog.append(np.mean(np.square(cog_coordinates - cog_coordinates_ref[i]), axis=0))\n",
    "    print(f\"RMSF of residue {i+2} computed\")"
   ]
  },
  {
   "cell_type": "code",
   "execution_count": null,
   "metadata": {},
   "outputs": [],
   "source": [
    "RMSF_aa = []\n",
    "\n",
    "N_res = len(u_AA.select_atoms(\"protein\").residues)\n",
    "\n",
    "for i in range(N_res):\n",
    "    RMSF_aa.append(math.sqrt(rmsf_cog[i][0] + rmsf_cog[i][1] + rmsf_cog[i][2]))"
   ]
  },
  {
   "cell_type": "code",
   "execution_count": null,
   "metadata": {},
   "outputs": [],
   "source": [
    "# CG RMSF\n",
    "BB = u_CG.select_atoms(\"name BB\")\n",
    "myRMSF_bb = RMSF(BB).run()\n",
    "\n",
    "plt.rcParams[\"figure.figsize\"] = (6, 4)\n",
    "plt.plot(myRMSF_bb.rmsf, 'r', label=\"CG, backbone beads\")\n",
    "plt.plot(RMSF_aa, 'b', label=\"AA, backbone and hydrogens COG\")\n",
    "plt.xlabel('Residue index')\n",
    "plt.ylabel(r'RMSF [$\\AA$]')\n",
    "plt.title('RMSF')\n",
    "plt.legend(loc='best')\n",
    "plt.grid()\n",
    "#plt.savefig(\"pics/RMSF_AA_CG.png\")"
   ]
  }
 ],
 "metadata": {
  "kernelspec": {
   "display_name": "QCB",
   "language": "python",
   "name": "python3"
  },
  "language_info": {
   "codemirror_mode": {
    "name": "ipython",
    "version": 3
   },
   "file_extension": ".py",
   "mimetype": "text/x-python",
   "name": "python",
   "nbconvert_exporter": "python",
   "pygments_lexer": "ipython3",
   "version": "3.8.1"
  },
  "orig_nbformat": 4
 },
 "nbformat": 4,
 "nbformat_minor": 2
}
